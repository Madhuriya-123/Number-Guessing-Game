{
  "nbformat": 4,
  "nbformat_minor": 0,
  "metadata": {
    "colab": {
      "provenance": [],
      "authorship_tag": "ABX9TyMN/qiMyFz0BImGaUDhAQhT",
      "include_colab_link": true
    },
    "kernelspec": {
      "name": "python3",
      "display_name": "Python 3"
    },
    "language_info": {
      "name": "python"
    }
  },
  "cells": [
    {
      "cell_type": "markdown",
      "metadata": {
        "id": "view-in-github",
        "colab_type": "text"
      },
      "source": [
        "<a href=\"https://colab.research.google.com/github/Madhuriya-123/Number-Guessing-Game/blob/main/guess_game.ipynb\" target=\"_parent\"><img src=\"https://colab.research.google.com/assets/colab-badge.svg\" alt=\"Open In Colab\"/></a>"
      ]
    },
    {
      "cell_type": "markdown",
      "source": [
        "# **Number Guessing Game**"
      ],
      "metadata": {
        "id": "vLUU8hVmJ8vD"
      }
    },
    {
      "cell_type": "code",
      "source": [
        "import random"
      ],
      "metadata": {
        "id": "Sd1l8u5pKKRR"
      },
      "execution_count": 11,
      "outputs": []
    },
    {
      "cell_type": "code",
      "source": [
        "number = random.randint(1,100)\n",
        "attempts = 0\n",
        "max_attempts = 7"
      ],
      "metadata": {
        "id": "nbsHpPp5Kjne"
      },
      "execution_count": 12,
      "outputs": []
    },
    {
      "cell_type": "code",
      "source": [
        "print(\"Welcome to the Number Guessing Game! 🎮\")\n",
        "print(\"I'm thinking of a number between 1 and 100\")\n",
        "while attempts < max_attempts:\n",
        "  try:\n",
        "      guess = int(input(f\"Attempts {attempts + 1}: Enter your guess: \"))\n",
        "      attempts += 1\n",
        "      if guess == number:\n",
        "        print(f\"🎉Congratulations! You guessed the number {number} in {attempts} attempts.\")\n",
        "      elif guess < number:\n",
        "        print(\"⬆️Too low! Aim Higher.🎯\")\n",
        "      else:\n",
        "        print(\"⬇️Too high! Try a smaller number.👇\")\n",
        "\n",
        "  except ValueError:\n",
        "       print(\"🚫Invalid input. Please enter a valid number.🔢\")\n",
        ""
      ],
      "metadata": {
        "colab": {
          "base_uri": "https://localhost:8080/"
        },
        "id": "qp-GSO8NLbU1",
        "outputId": "80ece093-a059-481c-bde8-f4841cf3456e"
      },
      "execution_count": 13,
      "outputs": [
        {
          "output_type": "stream",
          "name": "stdout",
          "text": [
            "Welcome to the Number Guessing Game! 🎮\n",
            "I'm thinking of a number between 1 and 100\n",
            "Attempts 1: Enter your guess: 45\n",
            "⬆️Too low! Aim Higher.🎯\n",
            "Attempts 2: Enter your guess: 75\n",
            "⬆️Too low! Aim Higher.🎯\n",
            "Attempts 3: Enter your guess: 85\n",
            "⬆️Too low! Aim Higher.🎯\n",
            "Attempts 4: Enter your guess: 95\n",
            "⬇️Too high! Try a smaller number.👇\n",
            "Attempts 5: Enter your guess: 89\n",
            "⬆️Too low! Aim Higher.🎯\n",
            "Attempts 6: Enter your guess: 90\n",
            "⬆️Too low! Aim Higher.🎯\n",
            "Attempts 7: Enter your guess: 93\n",
            "🎉Congratulations! You guessed the number 93 in 7 attempts.\n"
          ]
        }
      ]
    },
    {
      "cell_type": "code",
      "source": [
        "if attempts == max_attempts and guess != number:\n",
        "  print(f\"😞Sorry, you've reached the maximum number of attempts. The number was {number}.\")"
      ],
      "metadata": {
        "id": "PtELCgjGQUek"
      },
      "execution_count": 10,
      "outputs": []
    }
  ]
}